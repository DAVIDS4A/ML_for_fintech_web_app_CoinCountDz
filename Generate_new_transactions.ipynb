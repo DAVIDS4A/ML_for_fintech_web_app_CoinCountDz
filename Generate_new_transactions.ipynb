{
 "cells": [
  {
   "cell_type": "code",
   "execution_count": 2,
   "metadata": {},
   "outputs": [],
   "source": [
    "import pandas as pd\n",
    "import numpy as np\n",
    "import random\n",
    "from datetime import datetime, timedelta\n",
    "\n",
    "# Create a DataFrame\n",
    "df = pd.read_csv(\"personal_transactions_with_UserId.csv\")\n",
    "\n",
    "\n",
    "num_new_transactions = 10000\n",
    "\n",
    "# Generate new transactions\n",
    "for _ in range(num_new_transactions):\n",
    "    new_row = {\n",
    "        'Date': (datetime.strptime(df['Date'].sample(1).iloc[0], '%m/%d/%Y') + timedelta(days=random.randint(1, 30))).strftime('%m/%d/%Y'),\n",
    "        'Description': df['Description'].sample(1).iloc[0],\n",
    "        'Amount': round(random.uniform(1, 200), 2),\n",
    "        'Transaction Type': random.choice(['debit', 'credit']),\n",
    "        'Category': df['Category'].sample(1).iloc[0],\n",
    "        'Account Name': df['Account Name'].sample(1).iloc[0]\n",
    "    }\n",
    "    df = df.append(new_row, ignore_index=True)\n",
    "\n",
    "df.to_csv('aug_personal_transactions_with_UserId.csv', index=False)"
   ]
  },
  {
   "cell_type": "code",
   "execution_count": null,
   "metadata": {},
   "outputs": [],
   "source": []
  }
 ],
 "metadata": {
  "kernelspec": {
   "display_name": "Python 3",
   "language": "python",
   "name": "python3"
  },
  "language_info": {
   "codemirror_mode": {
    "name": "ipython",
    "version": 3
   },
   "file_extension": ".py",
   "mimetype": "text/x-python",
   "name": "python",
   "nbconvert_exporter": "python",
   "pygments_lexer": "ipython3",
   "version": "3.7.9"
  }
 },
 "nbformat": 4,
 "nbformat_minor": 4
}
